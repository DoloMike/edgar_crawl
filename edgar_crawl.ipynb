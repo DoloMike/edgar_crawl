{
 "cells": [
  {
   "cell_type": "markdown",
   "metadata": {},
   "source": [
    "# Here's a quick & dirty script for crawling the SEC Edgar Feed. Not meant for production."
   ]
  },
  {
   "cell_type": "markdown",
   "metadata": {},
   "source": [
    "### Setup some constants"
   ]
  },
  {
   "cell_type": "code",
   "execution_count": 85,
   "metadata": {},
   "outputs": [],
   "source": [
    "# const\n",
    "EDGAR_FEED_API = 'https://www.sec.gov/Archives/edgar/Feed/'\n",
    "INDEX_JSON = 'index.json'\n",
    "YEAR_START = 2019\n",
    "COL_HREF = 'href'\n",
    "COL_NAME = 'name'\n",
    "KEY_DIR = 'directory'\n",
    "KEY_ITEM = 'item'\n",
    "# end const"
   ]
  },
  {
   "cell_type": "markdown",
   "metadata": {},
   "source": [
    "### Function that will get you quarterly index uris based on a start year and end year that you give it."
   ]
  },
  {
   "cell_type": "code",
   "execution_count": 84,
   "metadata": {},
   "outputs": [
    {
     "name": "stdout",
     "output_type": "stream",
     "text": [
      "['https://www.sec.gov/Archives/edgar/Feed/2019/QTR1/index.json', 'https://www.sec.gov/Archives/edgar/Feed/2019/QTR2/index.json', 'https://www.sec.gov/Archives/edgar/Feed/2019/QTR3/index.json', 'https://www.sec.gov/Archives/edgar/Feed/2019/QTR4/index.json', 'https://www.sec.gov/Archives/edgar/Feed/2020/QTR1/index.json']\n"
     ]
    }
   ],
   "source": [
    "import requests\n",
    "import pandas as pd\n",
    "import json\n",
    "\n",
    "def get_qtr_index_uris(yr_st=1994, yr_end=3000):\n",
    "    # get feed directorys\n",
    "    data = requests.get(f'{EDGAR_FEED_API}{INDEX_JSON}').json()[KEY_DIR][KEY_ITEM]\n",
    "    df = pd.read_json(json.dumps(data))\n",
    "    f1 = (df[COL_NAME] >= yr_st)\n",
    "    f2 = (df[COL_NAME] <= yr_end)\n",
    "    df = df[f1 & f2]\n",
    "\n",
    "    # for each year build quarterly endpoints for crawling\n",
    "    qtr_apis = []\n",
    "    for index, row in df.iterrows():\n",
    "        url = f'{EDGAR_FEED_API}{row[COL_HREF]}{INDEX_JSON}'\n",
    "        data = requests.get(url).json()[KEY_DIR][KEY_ITEM]\n",
    "\n",
    "        qtr_df = pd.read_json(json.dumps(data))\n",
    "        for qtr_index, qtr_row in qtr_df.iterrows():\n",
    "            url = f'{EDGAR_FEED_API}{row[COL_HREF]}{qtr_row[COL_HREF]}{INDEX_JSON}'\n",
    "            qtr_apis.append(url)\n",
    "    \n",
    "    return qtr_apis\n",
    "\n",
    "qtr_index_uris = get_qtr_index_uris(YEAR_START)\n",
    "print(qtr_index_uris)"
   ]
  },
  {
   "cell_type": "markdown",
   "metadata": {},
   "source": [
    "### Method to process each tarball within a given quarterly index. It doesn't do anything, implementing the 'processing' is left as open-ended."
   ]
  },
  {
   "cell_type": "code",
   "execution_count": 83,
   "metadata": {},
   "outputs": [
    {
     "name": "stdout",
     "output_type": "stream",
     "text": [
      "https://www.sec.gov/Archives/edgar/Feed/2019/QTR4/20191001.nc.tar.gz\n",
      "https://www.sec.gov/Archives/edgar/Feed/2019/QTR4/20191002.nc.tar.gz\n",
      "https://www.sec.gov/Archives/edgar/Feed/2019/QTR4/20191003.nc.tar.gz\n",
      "https://www.sec.gov/Archives/edgar/Feed/2019/QTR4/20191004.nc.tar.gz\n",
      "https://www.sec.gov/Archives/edgar/Feed/2019/QTR4/20191007.nc.tar.gz\n",
      "https://www.sec.gov/Archives/edgar/Feed/2019/QTR4/20191008.nc.tar.gz\n",
      "https://www.sec.gov/Archives/edgar/Feed/2019/QTR4/20191009.nc.tar.gz\n",
      "https://www.sec.gov/Archives/edgar/Feed/2019/QTR4/20191010.nc.tar.gz\n",
      "https://www.sec.gov/Archives/edgar/Feed/2019/QTR4/20191011.nc.tar.gz\n",
      "https://www.sec.gov/Archives/edgar/Feed/2019/QTR4/20191015.nc.tar.gz\n",
      "https://www.sec.gov/Archives/edgar/Feed/2019/QTR4/20191016.nc.tar.gz\n",
      "https://www.sec.gov/Archives/edgar/Feed/2019/QTR4/20191017.nc.tar.gz\n",
      "https://www.sec.gov/Archives/edgar/Feed/2019/QTR4/20191018.nc.tar.gz\n",
      "https://www.sec.gov/Archives/edgar/Feed/2019/QTR4/20191021.nc.tar.gz\n",
      "https://www.sec.gov/Archives/edgar/Feed/2019/QTR4/20191022.nc.tar.gz\n",
      "https://www.sec.gov/Archives/edgar/Feed/2019/QTR4/20191023.nc.tar.gz\n",
      "https://www.sec.gov/Archives/edgar/Feed/2019/QTR4/20191024.nc.tar.gz\n",
      "https://www.sec.gov/Archives/edgar/Feed/2019/QTR4/20191025.nc.tar.gz\n",
      "https://www.sec.gov/Archives/edgar/Feed/2019/QTR4/20191028.nc.tar.gz\n",
      "https://www.sec.gov/Archives/edgar/Feed/2019/QTR4/20191029.nc.tar.gz\n",
      "https://www.sec.gov/Archives/edgar/Feed/2019/QTR4/20191030.nc.tar.gz\n",
      "https://www.sec.gov/Archives/edgar/Feed/2019/QTR4/20191031.nc.tar.gz\n",
      "https://www.sec.gov/Archives/edgar/Feed/2019/QTR4/20191101.nc.tar.gz\n",
      "https://www.sec.gov/Archives/edgar/Feed/2019/QTR4/20191104.nc.tar.gz\n",
      "https://www.sec.gov/Archives/edgar/Feed/2019/QTR4/20191105.nc.tar.gz\n",
      "https://www.sec.gov/Archives/edgar/Feed/2019/QTR4/20191106.nc.tar.gz\n",
      "https://www.sec.gov/Archives/edgar/Feed/2019/QTR4/20191107.nc.tar.gz\n",
      "https://www.sec.gov/Archives/edgar/Feed/2019/QTR4/20191108.nc.tar.gz\n",
      "https://www.sec.gov/Archives/edgar/Feed/2019/QTR4/20191112.nc.tar.gz\n",
      "https://www.sec.gov/Archives/edgar/Feed/2019/QTR4/20191113.nc.tar.gz\n",
      "https://www.sec.gov/Archives/edgar/Feed/2019/QTR4/20191114.nc.tar.gz\n",
      "https://www.sec.gov/Archives/edgar/Feed/2019/QTR4/20191115.nc.tar.gz\n",
      "https://www.sec.gov/Archives/edgar/Feed/2019/QTR4/20191118.nc.tar.gz\n",
      "https://www.sec.gov/Archives/edgar/Feed/2019/QTR4/20191119.nc.tar.gz\n",
      "https://www.sec.gov/Archives/edgar/Feed/2019/QTR4/20191120.nc.tar.gz\n",
      "https://www.sec.gov/Archives/edgar/Feed/2019/QTR4/20191121.nc.tar.gz\n",
      "https://www.sec.gov/Archives/edgar/Feed/2019/QTR4/20191122.nc.tar.gz\n",
      "https://www.sec.gov/Archives/edgar/Feed/2019/QTR4/20191125.nc.tar.gz\n",
      "https://www.sec.gov/Archives/edgar/Feed/2019/QTR4/20191126.nc.tar.gz\n",
      "https://www.sec.gov/Archives/edgar/Feed/2019/QTR4/20191127.nc.tar.gz\n",
      "https://www.sec.gov/Archives/edgar/Feed/2019/QTR4/20191129.nc.tar.gz\n",
      "https://www.sec.gov/Archives/edgar/Feed/2019/QTR4/20191202.nc.tar.gz\n",
      "https://www.sec.gov/Archives/edgar/Feed/2019/QTR4/20191203.nc.tar.gz\n",
      "https://www.sec.gov/Archives/edgar/Feed/2019/QTR4/20191204.nc.tar.gz\n",
      "https://www.sec.gov/Archives/edgar/Feed/2019/QTR4/20191205.nc.tar.gz\n",
      "https://www.sec.gov/Archives/edgar/Feed/2019/QTR4/20191206.nc.tar.gz\n",
      "https://www.sec.gov/Archives/edgar/Feed/2019/QTR4/20191209.nc.tar.gz\n",
      "https://www.sec.gov/Archives/edgar/Feed/2019/QTR4/20191210.nc.tar.gz\n",
      "https://www.sec.gov/Archives/edgar/Feed/2019/QTR4/20191211.nc.tar.gz\n",
      "https://www.sec.gov/Archives/edgar/Feed/2019/QTR4/20191212.nc.tar.gz\n",
      "https://www.sec.gov/Archives/edgar/Feed/2019/QTR4/20191213.nc.tar.gz\n",
      "https://www.sec.gov/Archives/edgar/Feed/2019/QTR4/20191216.nc.tar.gz\n",
      "https://www.sec.gov/Archives/edgar/Feed/2019/QTR4/20191217.nc.tar.gz\n",
      "https://www.sec.gov/Archives/edgar/Feed/2019/QTR4/20191218.nc.tar.gz\n",
      "https://www.sec.gov/Archives/edgar/Feed/2019/QTR4/20191219.nc.tar.gz\n",
      "https://www.sec.gov/Archives/edgar/Feed/2019/QTR4/20191220.nc.tar.gz\n",
      "https://www.sec.gov/Archives/edgar/Feed/2019/QTR4/20191223.nc.tar.gz\n",
      "https://www.sec.gov/Archives/edgar/Feed/2019/QTR4/20191226.nc.tar.gz\n",
      "https://www.sec.gov/Archives/edgar/Feed/2019/QTR4/20191227.nc.tar.gz\n",
      "https://www.sec.gov/Archives/edgar/Feed/2019/QTR4/20191230.nc.tar.gz\n",
      "https://www.sec.gov/Archives/edgar/Feed/2019/QTR4/20191231.nc.tar.gz\n",
      "https://www.sec.gov/Archives/edgar/Feed/2020/QTR1/20200102.nc.tar.gz\n",
      "https://www.sec.gov/Archives/edgar/Feed/2020/QTR1/20200103.nc.tar.gz\n",
      "https://www.sec.gov/Archives/edgar/Feed/2020/QTR1/20200106.nc.tar.gz\n",
      "https://www.sec.gov/Archives/edgar/Feed/2020/QTR1/20200107.nc.tar.gz\n",
      "https://www.sec.gov/Archives/edgar/Feed/2020/QTR1/20200108.nc.tar.gz\n",
      "https://www.sec.gov/Archives/edgar/Feed/2020/QTR1/20200109.nc.tar.gz\n",
      "https://www.sec.gov/Archives/edgar/Feed/2020/QTR1/20200110.nc.tar.gz\n",
      "https://www.sec.gov/Archives/edgar/Feed/2020/QTR1/20200113.nc.tar.gz\n",
      "https://www.sec.gov/Archives/edgar/Feed/2020/QTR1/20200114.nc.tar.gz\n",
      "https://www.sec.gov/Archives/edgar/Feed/2020/QTR1/20200115.nc.tar.gz\n",
      "https://www.sec.gov/Archives/edgar/Feed/2020/QTR1/20200116.nc.tar.gz\n",
      "https://www.sec.gov/Archives/edgar/Feed/2020/QTR1/20200117.nc.tar.gz\n",
      "https://www.sec.gov/Archives/edgar/Feed/2020/QTR1/20200121.nc.tar.gz\n",
      "https://www.sec.gov/Archives/edgar/Feed/2020/QTR1/20200122.nc.tar.gz\n",
      "https://www.sec.gov/Archives/edgar/Feed/2020/QTR1/20200123.nc.tar.gz\n",
      "https://www.sec.gov/Archives/edgar/Feed/2020/QTR1/20200124.nc.tar.gz\n",
      "https://www.sec.gov/Archives/edgar/Feed/2020/QTR1/20200127.nc.tar.gz\n",
      "https://www.sec.gov/Archives/edgar/Feed/2020/QTR1/20200128.nc.tar.gz\n",
      "https://www.sec.gov/Archives/edgar/Feed/2020/QTR1/20200129.nc.tar.gz\n",
      "https://www.sec.gov/Archives/edgar/Feed/2020/QTR1/20200130.nc.tar.gz\n",
      "https://www.sec.gov/Archives/edgar/Feed/2020/QTR1/20200131.nc.tar.gz\n",
      "https://www.sec.gov/Archives/edgar/Feed/2020/QTR1/20200203.nc.tar.gz\n",
      "https://www.sec.gov/Archives/edgar/Feed/2020/QTR1/20200204.nc.tar.gz\n",
      "https://www.sec.gov/Archives/edgar/Feed/2020/QTR1/20200205.nc.tar.gz\n",
      "https://www.sec.gov/Archives/edgar/Feed/2020/QTR1/20200206.nc.tar.gz\n",
      "https://www.sec.gov/Archives/edgar/Feed/2020/QTR1/20200207.nc.tar.gz\n",
      "https://www.sec.gov/Archives/edgar/Feed/2020/QTR1/20200210.nc.tar.gz\n",
      "https://www.sec.gov/Archives/edgar/Feed/2020/QTR1/20200211.nc.tar.gz\n",
      "https://www.sec.gov/Archives/edgar/Feed/2020/QTR1/20200212.nc.tar.gz\n",
      "https://www.sec.gov/Archives/edgar/Feed/2020/QTR1/20200213.nc.tar.gz\n",
      "https://www.sec.gov/Archives/edgar/Feed/2020/QTR1/20200214.nc.tar.gz\n",
      "https://www.sec.gov/Archives/edgar/Feed/2020/QTR1/20200218.nc.tar.gz\n",
      "https://www.sec.gov/Archives/edgar/Feed/2020/QTR1/20200219.nc.tar.gz\n",
      "https://www.sec.gov/Archives/edgar/Feed/2020/QTR1/20200220.nc.tar.gz\n",
      "https://www.sec.gov/Archives/edgar/Feed/2020/QTR1/20200221.nc.tar.gz\n",
      "https://www.sec.gov/Archives/edgar/Feed/2020/QTR1/20200224.nc.tar.gz\n",
      "https://www.sec.gov/Archives/edgar/Feed/2020/QTR1/20200225.nc.tar.gz\n",
      "https://www.sec.gov/Archives/edgar/Feed/2020/QTR1/20200226.nc.tar.gz\n",
      "https://www.sec.gov/Archives/edgar/Feed/2020/QTR1/20200227.nc.tar.gz\n",
      "https://www.sec.gov/Archives/edgar/Feed/2020/QTR1/20200228.nc.tar.gz\n",
      "https://www.sec.gov/Archives/edgar/Feed/2020/QTR1/20200302.nc.tar.gz\n",
      "https://www.sec.gov/Archives/edgar/Feed/2020/QTR1/20200303.nc.tar.gz\n",
      "https://www.sec.gov/Archives/edgar/Feed/2020/QTR1/20200304.nc.tar.gz\n",
      "https://www.sec.gov/Archives/edgar/Feed/2020/QTR1/20200305.nc.tar.gz\n",
      "https://www.sec.gov/Archives/edgar/Feed/2020/QTR1/20200306.nc.tar.gz\n",
      "https://www.sec.gov/Archives/edgar/Feed/2020/QTR1/20200309.nc.tar.gz\n",
      "https://www.sec.gov/Archives/edgar/Feed/2020/QTR1/20200310.nc.tar.gz\n",
      "https://www.sec.gov/Archives/edgar/Feed/2020/QTR1/20200311.nc.tar.gz\n",
      "https://www.sec.gov/Archives/edgar/Feed/2020/QTR1/20200312.nc.tar.gz\n",
      "https://www.sec.gov/Archives/edgar/Feed/2020/QTR1/20200313.nc.tar.gz\n",
      "https://www.sec.gov/Archives/edgar/Feed/2020/QTR1/20200316.nc.tar.gz\n",
      "https://www.sec.gov/Archives/edgar/Feed/2020/QTR1/20200317.nc.tar.gz\n",
      "https://www.sec.gov/Archives/edgar/Feed/2020/QTR1/20200318.nc.tar.gz\n",
      "https://www.sec.gov/Archives/edgar/Feed/2020/QTR1/20200319.nc.tar.gz\n",
      "https://www.sec.gov/Archives/edgar/Feed/2020/QTR1/20200320.nc.tar.gz\n",
      "https://www.sec.gov/Archives/edgar/Feed/2020/QTR1/20200323.nc.tar.gz\n",
      "https://www.sec.gov/Archives/edgar/Feed/2020/QTR1/20200324.nc.tar.gz\n",
      "https://www.sec.gov/Archives/edgar/Feed/2020/QTR1/20200325.nc.tar.gz\n",
      "https://www.sec.gov/Archives/edgar/Feed/2020/QTR1/20200326.nc.tar.gz\n"
     ]
    }
   ],
   "source": [
    "# test data\n",
    "qtr_index_uris = [\n",
    "'https://www.sec.gov/Archives/edgar/Feed/2019/QTR4/index.json',\n",
    "'https://www.sec.gov/Archives/edgar/Feed/2020/QTR1/index.json'\n",
    "]\n",
    "\n",
    "def process_qtr_tarballs(qtr_uri, qtr_index_df):\n",
    "    qtr_uri = f'{qtr_uri.rsplit(\"/\", 1)[0]}/'\n",
    "    for index, row in qtr_index_df.iterrows():\n",
    "        tarball_uri = f'{qtr_uri}{row[COL_NAME]}'\n",
    "        print(tarball_uri)\n",
    "        # download the tarball, unzip in memory, throw into queueing service, whatever\n",
    "               \n",
    "for i in qtr_index_uris:\n",
    "    data = requests.get(i).json()[KEY_DIR][KEY_ITEM]\n",
    "    df = pd.read_json(json.dumps(data))\n",
    "    process_qtr_tarballs(i, df)"
   ]
  }
 ],
 "metadata": {
  "kernelspec": {
   "display_name": "Python 3",
   "language": "python",
   "name": "python3"
  },
  "language_info": {
   "codemirror_mode": {
    "name": "ipython",
    "version": 3
   },
   "file_extension": ".py",
   "mimetype": "text/x-python",
   "name": "python",
   "nbconvert_exporter": "python",
   "pygments_lexer": "ipython3",
   "version": "3.8.1"
  }
 },
 "nbformat": 4,
 "nbformat_minor": 4
}
